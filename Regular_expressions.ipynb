{
  "nbformat": 4,
  "nbformat_minor": 0,
  "metadata": {
    "colab": {
      "provenance": [],
      "authorship_tag": "ABX9TyPRCYl96O3XueCqm+1VsyGV",
      "include_colab_link": true
    },
    "kernelspec": {
      "name": "python3",
      "display_name": "Python 3"
    },
    "language_info": {
      "name": "python"
    }
  },
  "cells": [
    {
      "cell_type": "markdown",
      "metadata": {
        "id": "view-in-github",
        "colab_type": "text"
      },
      "source": [
        "<a href=\"https://colab.research.google.com/github/shuvad23/Python-Advanced-Topics-/blob/main/Regular_expressions.ipynb\" target=\"_parent\"><img src=\"https://colab.research.google.com/assets/colab-badge.svg\" alt=\"Open In Colab\"/></a>"
      ]
    },
    {
      "cell_type": "code",
      "execution_count": null,
      "metadata": {
        "colab": {
          "base_uri": "https://localhost:8080/"
        },
        "id": "JvS72xcluTeP",
        "outputId": "fd15cf4f-e4e8-4f48-ec0e-87c26d1678fd"
      },
      "outputs": [
        {
          "output_type": "stream",
          "name": "stdout",
          "text": [
            "True\n",
            "False\n",
            "False\n",
            "abc\n"
          ]
        }
      ],
      "source": [
        "'''\n",
        "\n",
        "Regular expressions are a powerful language for matching text patterns.\n",
        "This page gives a basic introduction to regular expressions themselves\n",
        "sufficient for our Python exercises and shows how regular expressions\n",
        "work in Python. The Python \"re\" module provides regular expression support.\n",
        "match = re.search(pat, str)\n",
        "\n",
        "'''\n",
        "#Basic Examples-----------------------------------\n",
        "\n",
        "\n",
        "import re\n",
        "## Search for pattern 'iii' in string 'piiig'.\n",
        "## All of the pattern must match, but it may appear anywhere.\n",
        "## On success, match.group() is matched text.\n",
        "match = re.search(r'iii', 'piiig') # found, match.group() == \"iii\"\n",
        "print(bool(match))\n",
        "match = re.search(r'igs', 'piiig') # not found, match == None\n",
        "print(bool(match))\n",
        "\n",
        "## . = any char but \\n\n",
        "match = re.search(r'g', 'gpiii') # found, match.group() == \"g\"\n",
        "match = re.search(r'..g', 'gpiii') # found, match.group() == \"iig\"\n",
        "print(bool(match))\n",
        "\n",
        "## \\d = digit char, \\w = word char\n",
        "match = re.search(r'\\d\\d\\d', 'p123g') # found, match.group() == \"123\"\n",
        "match = re.search(r'\\w\\w\\w', '@@abcd!!') # found, match.group() == \"abc\"\n",
        "print(match.group())"
      ]
    },
    {
      "cell_type": "code",
      "source": [
        "# Leftmost & Largest\n",
        "# First the search finds the leftmost match for the pattern, and second it tries to use up as much of the string as possible -- i.e. + and * go as far as possible (the + and * are said to be \"greedy\").\n",
        "\n",
        "# Repetition Examples\n",
        "## i+ = one or more i's, as many as possible.\n",
        "match = re.search(r'pi+', 'piiig') # found, match.group() == \"piii\"\n",
        "\n",
        "## Finds the first/leftmost solution, and within it drives the +\n",
        "## as far as possible (aka 'leftmost and largest').\n",
        "## In this example, note that it does not get to the second set of i's.\n",
        "match = re.search(r'i+', 'piigiiii') # found, match.group() == \"ii\"\n",
        "\n",
        "## \\s* = zero or more whitespace chars\n",
        "## Here look for 3 digits, possibly separated by whitespace.\n",
        "match = re.search(r'\\d\\s*\\d\\s*\\d', 'xx1 2   3xx') # found, match.group() == \"1 2   3\"\n",
        "match = re.search(r'\\d\\s*\\d\\s*\\d', 'xx12  3xx') # found, match.group() == \"12  3\"\n",
        "match = re.search(r'\\d\\s*\\d\\s*\\d', 'xx123xx') # found, match.group() == \"123\"\n",
        "print(bool(match))\n",
        "## ^ = matches the start of string, so this fails:\n",
        "match = re.search(r'^b\\w+', 'foobar') # not found, match == None\n",
        "## but without the ^ it succeeds:\n",
        "match = re.search(r'b\\w+', 'foobar') # found, match.group() == \"bar\""
      ],
      "metadata": {
        "colab": {
          "base_uri": "https://localhost:8080/"
        },
        "id": "57U5kzQmymvy",
        "outputId": "3dc7c734-906e-4786-a762-19e2965ba568"
      },
      "execution_count": null,
      "outputs": [
        {
          "output_type": "stream",
          "name": "stdout",
          "text": [
            "True\n"
          ]
        }
      ]
    }
  ]
}
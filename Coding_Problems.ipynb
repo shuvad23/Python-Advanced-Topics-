{
  "nbformat": 4,
  "nbformat_minor": 0,
  "metadata": {
    "colab": {
      "provenance": [],
      "authorship_tag": "ABX9TyO7+qes3g+wPSudNS7+Nl7w",
      "include_colab_link": true
    },
    "kernelspec": {
      "name": "python3",
      "display_name": "Python 3"
    },
    "language_info": {
      "name": "python"
    }
  },
  "cells": [
    {
      "cell_type": "markdown",
      "metadata": {
        "id": "view-in-github",
        "colab_type": "text"
      },
      "source": [
        "<a href=\"https://colab.research.google.com/github/shuvad23/Python-Advanced-Topics-/blob/main/Coding_Problems.ipynb\" target=\"_parent\"><img src=\"https://colab.research.google.com/assets/colab-badge.svg\" alt=\"Open In Colab\"/></a>"
      ]
    },
    {
      "cell_type": "code",
      "execution_count": null,
      "metadata": {
        "colab": {
          "base_uri": "https://localhost:8080/"
        },
        "id": "EkVQ2ZvhLrVs",
        "outputId": "12bbe386-0d0a-4e5c-9250-18eb39af5a38"
      },
      "outputs": [
        {
          "output_type": "stream",
          "name": "stdout",
          "text": [
            "python\n"
          ]
        }
      ],
      "source": [
        "#problem01------------------------\n",
        "def design_pattern(n,m):\n",
        "    helper=0\n",
        "    for i in range(0,n):\n",
        "        for j in range(0,m):\n",
        "            if(n//2>i):\n",
        "                if j<((m-3)//2)-(3*i) and ((m-3)//2!=3*i):\n",
        "                    print('-',end='')\n",
        "                elif j>((m-3)//2)-(3*i) and j<=((m-3)//2)-(3*i)+((2*i)+1) and ((m-3)//2!=3*i) :\n",
        "                    print('.|.',end='')\n",
        "                elif j>=((m-3)//2)-(3*i)+((6*i)+3):\n",
        "                    print('-',end='')\n",
        "            elif((n//2)<i):\n",
        "                if j< 3+(3*helper):\n",
        "                    print('-',end='')\n",
        "                elif j> 3+(3*helper) and j<=3+(3*helper)+((2*(((n//2)-1)-helper))+1):\n",
        "                    print('.|.',end='')\n",
        "                elif j>=3+(3*helper)+((6*(((n//2)-1)-helper))+3):\n",
        "                    print('-',end='')\n",
        "        if(i==n//2):\n",
        "            print(f\"{'-'*((m-7)//2)}WELCOME{'-'*((m-7)//2)}\",end='')\n",
        "        elif(n//2<i):\n",
        "            helper+=1\n",
        "        print('\\n',end='')\n",
        "\n",
        "\n",
        "N=int(input(\"mat size odd number: \"))\n",
        "M=N*3\n",
        "design_pattern(N,M)"
      ]
    },
    {
      "cell_type": "code",
      "source": [
        "def print_formatted(number):\n",
        "    # your code goes here\n",
        "    for i in range(1,number+1):\n",
        "      print(f'{i:>2} {(oct(i)[2:]):>3} {(hex(i)[2:]).upper():>2} {(bin(i)[2:]):>7}\\n',end='')\n",
        "if __name__ == '__main__':\n",
        "  number = int(input())\n",
        "  print_formatted(number)"
      ],
      "metadata": {
        "id": "nci7pcqbToYa"
      },
      "execution_count": null,
      "outputs": []
    },
    {
      "cell_type": "code",
      "source": [
        "#------------------------------way 1-----------------------------\n",
        "# def minion_game(string):\n",
        "#   string=\"\".join(char for char in string if char.isalpha())\n",
        "#   def point_counter(value):\n",
        "#     vowel=['A','E','I','O','U']\n",
        "#     stuart=0\n",
        "#     kevin=0\n",
        "#     for v in value:\n",
        "#       if(v[0] in vowel):\n",
        "#         kevin+=1\n",
        "#       else:\n",
        "#         stuart+=1\n",
        "#     return stuart,kevin\n",
        "#   substring=[string[i:j] for i in range(len(string)) for j in range(i+1,len(string)+1)]\n",
        "#   stuart,kevin=point_counter(substring)\n",
        "#   print(stuart,kevin)\n",
        "\n",
        "# if __name__ == '__main__':\n",
        "#   string='KDFJNVIOSER;LAVNALFLSUROIWOIEPOEIRUA;LDKFJIUERLKSDJFKSJDFHIWEURYKJSKJDFHXCMVN,XMSDJFSKLDKFJSDFKJSLKDJFLSJFXCMVNXVLSDKJFXCNVLSKDFJX,CNVLSDFJFJWEOIRULSKDFJSOEIRULSKDFJSLJDFOERUJLSKDFJOSIERJEWF'\n",
        "#   minion_game(string)\n",
        "\n",
        "#---------------------------------------------way 2---------------------------------------------\n",
        "string='BANANA'\n",
        "def minion_game(string):\n",
        "  string=\"\".join(char for char in string if char.isalpha())\n",
        "  def point_counter(value):\n",
        "    vowel={'A','E','I','O','U'}\n",
        "    n=len(string)\n",
        "    stuart=0\n",
        "    kevin=0\n",
        "    for v in range(n):\n",
        "      if(string[v] in vowel):\n",
        "        kevin+=n-v\n",
        "      else:\n",
        "        stuart+=n-v\n",
        "    return stuart,kevin\n",
        "  stuart,kevin=point_counter(string)\n",
        "  print(stuart,kevin)\n",
        "\n",
        "if __name__ == '__main__':\n",
        "  string='BANANA'\n",
        "  minion_game(string)\n"
      ],
      "metadata": {
        "id": "Eg27DRSMTrxx"
      },
      "execution_count": null,
      "outputs": []
    },
    {
      "cell_type": "code",
      "source": [
        "# from functools import reduce\n",
        "# from multiprocessing import Pool\n",
        "\n",
        "string_value=\"hello          world  1452lol\"\n",
        "captial_form=string_value.split(' ')\n",
        "\n",
        "captial=[value.capitalize() if value!='' else value for value in captial_form ]\n",
        "print(captial)\n",
        "result=\" \".join(captial)\n",
        "\n",
        "\n",
        "# --------------------------2 way----------------------\n",
        "# def captial_function(value):\n",
        "#   if(value!=''):\n",
        "#     return value.capitalize()\n",
        "#   else:\n",
        "#     return value\n",
        "# with Pool() as p:\n",
        "#   captial=p.map(captial_function,captial_form)\n",
        "# value=reduce(lambda x,y:x+' '+y,list(captial))\n",
        "print(result)"
      ],
      "metadata": {
        "id": "GphI0i-tT2i0"
      },
      "execution_count": null,
      "outputs": []
    },
    {
      "cell_type": "code",
      "source": [
        "import itertools\n",
        "def merge_the_tools(string, k):\n",
        "    # your code goes here\n",
        "\n",
        "\n",
        "    string=\"\".join(char for char in string if char.isalpha()).upper()\n",
        "    substring=[string[i:i+(len(string)//k)] for i in range(0,len(string),(len(string)//k))]\n",
        "    print(substring)\n",
        "    substring=[string[i:j] for i in range(len(string)) for j in range(i+1,len(string)+1)]\n",
        "    for u in substring:\n",
        "      if\n",
        "    pass\n",
        "\n",
        "if __name__ == '__main__':\n",
        "    string, k = \"AABCAAADARYRYDIDIFJFJFSKSKSKDLDLD\", 5\n",
        "    merge_the_tools(string, k)"
      ],
      "metadata": {
        "id": "zXRFGQTWT8rj"
      },
      "execution_count": null,
      "outputs": []
    },
    {
      "cell_type": "code",
      "source": [
        "# itertools problem------------\n",
        "import itertools\n",
        "arr1=list(map(int,input().split(' ')))\n",
        "arr2=list(map(int,input().split(' ')))\n",
        "cartesian_list=list(itertools.product(sorted(arr1),sorted(arr2)))\n",
        "for elm in cartesian_list:\n",
        "  print(elm,end=' ')"
      ],
      "metadata": {
        "colab": {
          "base_uri": "https://localhost:8080/"
        },
        "id": "31yj9WkpZfvb",
        "outputId": "8b05b926-1cb1-49fc-a281-efbc04db9c87"
      },
      "execution_count": 1,
      "outputs": [
        {
          "output_type": "stream",
          "name": "stdout",
          "text": [
            "1 2\n",
            "3 4\n",
            "(1, 3) (1, 4) (2, 3) (2, 4) "
          ]
        }
      ]
    },
    {
      "cell_type": "code",
      "source": [
        "# itertools problem------------\n",
        "\n",
        "string,k=input().split(' ')\n",
        "cartesian_list=[''.join(iterable) for iterable in list(itertools.permutations(sorted(string.upper()),int(k)))]\n",
        "for elm in cartesian_list:\n",
        "  print(elm)\n"
      ],
      "metadata": {
        "colab": {
          "base_uri": "https://localhost:8080/"
        },
        "id": "iBbIwfcSZsyL",
        "outputId": "4545168e-0214-433f-a21c-c750414ce76c"
      },
      "execution_count": 7,
      "outputs": [
        {
          "output_type": "stream",
          "name": "stdout",
          "text": [
            "HACK 2\n",
            "AC\n",
            "AH\n",
            "AK\n",
            "CA\n",
            "CH\n",
            "CK\n",
            "HA\n",
            "HC\n",
            "HK\n",
            "KA\n",
            "KC\n",
            "KH\n"
          ]
        }
      ]
    },
    {
      "cell_type": "code",
      "source": [
        "# itertools problem------------\n",
        "\n",
        "string,k=input().split(' ')\n",
        "cartesian_list=[''.join(iterable) for i in range(1,int(k)+1) for iterable in list(itertools.combinations(sorted(string.upper()),i))]\n",
        "for elm in cartesian_list:\n",
        "  print(elm)"
      ],
      "metadata": {
        "colab": {
          "base_uri": "https://localhost:8080/"
        },
        "id": "0Ai9XDkresiR",
        "outputId": "d2e8561b-7653-4796-ceb0-a8a89c7da8ad"
      },
      "execution_count": 43,
      "outputs": [
        {
          "output_type": "stream",
          "name": "stdout",
          "text": [
            "hack 2\n",
            "A\n",
            "C\n",
            "H\n",
            "K\n",
            "AC\n",
            "AH\n",
            "AK\n",
            "CH\n",
            "CK\n",
            "HK\n"
          ]
        }
      ]
    },
    {
      "cell_type": "code",
      "source": [
        "#itertools problem---------------------------\n",
        "\n",
        "string,k=input().split(' ')\n",
        "cartesian_list=[''.join(iterable) for iterable in list(itertools.combinations_with_replacement(sorted(string.upper()),int(k)))]\n",
        "for elm in cartesian_list:\n",
        "  print(elm)"
      ],
      "metadata": {
        "colab": {
          "base_uri": "https://localhost:8080/"
        },
        "id": "Uvv3RL7squzu",
        "outputId": "7131361c-c5cb-4de8-aae7-3ae4002faa4d"
      },
      "execution_count": 45,
      "outputs": [
        {
          "output_type": "stream",
          "name": "stdout",
          "text": [
            "hack 2\n",
            "AA\n",
            "AC\n",
            "AH\n",
            "AK\n",
            "CC\n",
            "CH\n",
            "CK\n",
            "HH\n",
            "HK\n",
            "KK\n"
          ]
        }
      ]
    },
    {
      "cell_type": "code",
      "source": [
        "#intertools problem -------------------------\n",
        "\n",
        "string=input()\n",
        "group=[(len(list(value)),key)for key,value in itertools.groupby(map(int,list(string)))]\n",
        "for val in group:\n",
        "  print(val,end=' ')\n"
      ],
      "metadata": {
        "colab": {
          "base_uri": "https://localhost:8080/"
        },
        "id": "do26KcR_rqOm",
        "outputId": "434c7890-e37d-4476-9f0b-e6e3af600621"
      },
      "execution_count": 67,
      "outputs": [
        {
          "output_type": "stream",
          "name": "stdout",
          "text": [
            "1222311\n",
            "(1, 1) (3, 2) (1, 3) (2, 1) "
          ]
        }
      ]
    },
    {
      "cell_type": "code",
      "source": [
        "#intertools problem -------------------------\n",
        "N=int(input())\n",
        "char_string=input().split()\n",
        "K=int(input())\n",
        "char=[chr(ch) for ch in range(ord('a'),ord('z')+1)]\n",
        "string_index=[char.index(ch)+1 for ch in list(char_string)]\n",
        "list_withA = [i for i in list(itertools.combinations(string_index,K)) if 1 in i ]\n",
        "print(round(len(list_withA)/len(list(itertools.combinations(string_index,K))),4))"
      ],
      "metadata": {
        "colab": {
          "base_uri": "https://localhost:8080/"
        },
        "id": "GpKFMd2KxOEX",
        "outputId": "bb79f766-a761-44f1-a288-14af0346ceec"
      },
      "execution_count": 100,
      "outputs": [
        {
          "output_type": "stream",
          "name": "stdout",
          "text": [
            "4\n",
            "a a c d\n",
            "2\n",
            "[1, 1, 3, 4]\n",
            "0.8333\n"
          ]
        }
      ]
    },
    {
      "cell_type": "code",
      "source": [],
      "metadata": {
        "id": "hQE975Azy8XA"
      },
      "execution_count": null,
      "outputs": []
    }
  ]
}
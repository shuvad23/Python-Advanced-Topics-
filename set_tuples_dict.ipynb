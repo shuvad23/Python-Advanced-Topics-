{
  "nbformat": 4,
  "nbformat_minor": 0,
  "metadata": {
    "colab": {
      "provenance": [],
      "authorship_tag": "ABX9TyNRVocWHK/z8Ky41nWaeKfP",
      "include_colab_link": true
    },
    "kernelspec": {
      "name": "python3",
      "display_name": "Python 3"
    },
    "language_info": {
      "name": "python"
    }
  },
  "cells": [
    {
      "cell_type": "markdown",
      "metadata": {
        "id": "view-in-github",
        "colab_type": "text"
      },
      "source": [
        "<a href=\"https://colab.research.google.com/github/shuvad23/Python-Advanced-Topics-/blob/main/set_tuples_dict.ipynb\" target=\"_parent\"><img src=\"https://colab.research.google.com/assets/colab-badge.svg\" alt=\"Open In Colab\"/></a>"
      ]
    },
    {
      "cell_type": "code",
      "execution_count": 16,
      "metadata": {
        "colab": {
          "base_uri": "https://localhost:8080/"
        },
        "id": "O2ms7Id5f0MT",
        "outputId": "53a86a6e-aea6-4d32-ea4c-9ac0b788ead3"
      },
      "outputs": [
        {
          "output_type": "stream",
          "name": "stdout",
          "text": [
            "<class 'set'>\n",
            "{1, 2, 3, 4, 5, 6, 7, 8, 9, 10, 45, 23}\n",
            "{1, 2, 3, 4, 5, 6, 7, 8, 9, 10, 45, 22, 23}\n",
            "{32, 1, 2, 3, 4, 5, 6, 7, 8, 9, 10, 36, 12, 45, 77, 22, 23}\n",
            "{1, 2, 4, 5}\n",
            "{1, 4, 5}\n",
            "{1, 2, 3, 4, 5, 6, 7, 8}\n",
            "{1, 2, 3, 4, 5, 6, 7, 8}\n",
            "{4, 5}\n",
            "{4, 5}\n",
            "{1, 2, 3}\n",
            "{1, 2, 3}\n",
            "{1, 2, 3, 6, 7, 8}\n",
            "{1, 2, 3, 6, 7, 8}\n",
            "True\n",
            "False\n",
            "3\n",
            "set()\n"
          ]
        }
      ],
      "source": [
        "'''\n",
        "\n",
        "In Python, the set() function is used to create a set, which is an unordered collection of unique elements. Sets are mutable, meaning you can add or remove elements, but the elements themselves must be immutable (e.g., numbers, strings, tuples).\n",
        "\n",
        "Key Characteristics of Sets:\n",
        "-Unordered: The elements in a set do not have a specific order.\n",
        "\n",
        "-Unique Elements: Duplicate elements are not allowed. If you try to add a duplicate, it will be ignored.\n",
        "\n",
        "-Mutable: You can add or remove elements from a set.\n",
        "\n",
        "-Unindexed: You cannot access elements by an index (since sets are unordered).\n",
        "\n",
        "Creating a Set\n",
        "You can create a set using the set() function or by using curly braces {}.\n",
        "\n",
        "'''\n",
        "\n",
        "#create a set---------\n",
        "set_value={1,2,3,4,5,6}\n",
        "print(type(set_value))\n",
        "#list to set----------\n",
        "list_value=[1,2,23,3,3,3,4,45,6,7,8,1,2,3,4,5,6,7,8,9,10]\n",
        "set_value=set(list_value)\n",
        "print(set_value)\n",
        "# Adding Elements:\n",
        "# Use the add() method to add a single element, or update() to add multiple elements.\n",
        "#add a new value---------\n",
        "set_value.add(22)\n",
        "print(set_value)\n",
        "#update set----------------------------\n",
        "set_value.update([12,32,36,77])\n",
        "print(set_value)\n",
        "\n",
        "\n",
        "# Removing Elements:\n",
        "# Use the remove() or discard() method to remove an element. The difference is that remove() will raise an error if the element is not found, while discard() will not.\n",
        "my_set={1,2,3,4,5}\n",
        "my_set.remove(3)\n",
        "print(my_set)\n",
        "\n",
        "my_set.discard(2)\n",
        "print(my_set)\n",
        "\n",
        "\n",
        "# Set Operations:\n",
        "\n",
        "# Union: Combines elements from two sets.\n",
        "\n",
        "# Intersection: Finds common elements between two sets.\n",
        "\n",
        "# Difference: Finds elements in one set that are not in the other.\n",
        "\n",
        "# Symmetric Difference: Finds elements that are in exactly one of the sets.\n",
        "set1={1,2,3,4,5}\n",
        "set2={4,5,6,7,8}\n",
        "\n",
        "# Union\n",
        "print(set1.union(set2))\n",
        "print(set1 | set2)\n",
        "\n",
        "#Intersection\n",
        "print(set1.intersection(set2))\n",
        "print(set1 & set2)\n",
        "\n",
        "#Difference\n",
        "print(set1.difference(set2))\n",
        "print(set1 -set2)\n",
        "\n",
        "#Symmetric Difference\n",
        "print(set1.symmetric_difference(set2))\n",
        "print(set1 ^set2)\n",
        "\n",
        "\n",
        "\n",
        "\n",
        "# Checking Membership:\n",
        "# Use the in keyword to check if an element is in a set.\n",
        "my_set = {1, 2, 3}\n",
        "print(2 in my_set)  # Output: True\n",
        "print(4 in my_set)  # Output: False\n",
        "\n",
        "# Set Length:\n",
        "# Use the len() function to get the number of elements in a set.\n",
        "my_set = {1, 2, 3}\n",
        "print(len(my_set))  # Output: 3\n",
        "\n",
        "\n",
        "# Clearing a Set:\n",
        "# Use the clear() method to remove all elements from a set.\n",
        "my_set = {1, 2, 3}\n",
        "my_set.clear()\n",
        "print(my_set)  # Output: set()\n",
        "\n",
        "\n",
        "#examples------------------\n",
        "# Creating a set\n",
        "fruits = {\"apple\", \"banana\", \"cherry\"}\n",
        "\n",
        "# Adding an element\n",
        "fruits.add(\"orange\")\n",
        "\n",
        "# Removing an element\n",
        "fruits.remove(\"banana\")\n",
        "\n",
        "# Checking membership\n",
        "print(\"apple\" in fruits)  # Output: True\n",
        "\n",
        "# Set operations\n",
        "vegetables = {\"carrot\", \"potato\", \"tomato\"}\n",
        "produce = fruits.union(vegetables)\n",
        "print(produce)  # Output: {'apple', 'cherry', 'orange', 'carrot', 'potato', 'tomato'}"
      ]
    },
    {
      "cell_type": "code",
      "source": [
        "a=[1,2,3]\n",
        "b=a\n",
        "b.append(4)\n",
        "print(a)"
      ],
      "metadata": {
        "colab": {
          "base_uri": "https://localhost:8080/"
        },
        "id": "qFhDxKj1qCjo",
        "outputId": "1aaf508b-671d-4c70-feb0-ea115c22e9dc"
      },
      "execution_count": 17,
      "outputs": [
        {
          "output_type": "stream",
          "name": "stdout",
          "text": [
            "[1, 2, 3, 4]\n"
          ]
        }
      ]
    }
  ]
}